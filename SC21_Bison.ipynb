{
 "cells": [
  {
   "cell_type": "code",
   "execution_count": 1,
   "metadata": {
    "colab": {
     "base_uri": "https://localhost:8080/"
    },
    "id": "B-dvIag-L3HL",
    "outputId": "e926370f-95cd-4739-9d78-712a3ae610f1"
   },
   "outputs": [
    {
     "name": "stdout",
     "output_type": "stream",
     "text": [
      "Reading package lists... Done\n",
      "Building dependency tree       \n",
      "Reading state information... Done\n",
      "gdal-bin is already the newest version (2.2.3+dfsg-2).\n",
      "python-gdal is already the newest version (2.2.3+dfsg-2).\n",
      "python3-gdal is already the newest version (2.2.3+dfsg-2).\n",
      "0 upgraded, 0 newly installed, 0 to remove and 37 not upgraded.\n",
      "Reading package lists... Done\n",
      "Building dependency tree       \n",
      "Reading state information... Done\n",
      "python3-rtree is already the newest version (0.8.3+ds-1).\n",
      "0 upgraded, 0 newly installed, 0 to remove and 37 not upgraded.\n",
      "Collecting git+git://github.com/geopandas/geopandas.git\n",
      "  Cloning git://github.com/geopandas/geopandas.git to /tmp/pip-req-build-g0gnzzao\n",
      "  Running command git clone -q git://github.com/geopandas/geopandas.git /tmp/pip-req-build-g0gnzzao\n",
      "Requirement already satisfied: pandas>=0.25.0 in /usr/local/lib/python3.7/dist-packages (from geopandas==0.10.2+5.g6925f68) (1.1.5)\n",
      "Requirement already satisfied: shapely>=1.6 in /usr/local/lib/python3.7/dist-packages (from geopandas==0.10.2+5.g6925f68) (1.7.1)\n",
      "Requirement already satisfied: fiona>=1.8 in /usr/local/lib/python3.7/dist-packages (from geopandas==0.10.2+5.g6925f68) (1.8.20)\n",
      "Requirement already satisfied: pyproj>=2.2.0 in /usr/local/lib/python3.7/dist-packages (from geopandas==0.10.2+5.g6925f68) (3.2.1)\n",
      "Requirement already satisfied: click>=4.0 in /usr/local/lib/python3.7/dist-packages (from fiona>=1.8->geopandas==0.10.2+5.g6925f68) (7.1.2)\n",
      "Requirement already satisfied: cligj>=0.5 in /usr/local/lib/python3.7/dist-packages (from fiona>=1.8->geopandas==0.10.2+5.g6925f68) (0.7.2)\n",
      "Requirement already satisfied: munch in /usr/local/lib/python3.7/dist-packages (from fiona>=1.8->geopandas==0.10.2+5.g6925f68) (2.5.0)\n",
      "Requirement already satisfied: six>=1.7 in /usr/local/lib/python3.7/dist-packages (from fiona>=1.8->geopandas==0.10.2+5.g6925f68) (1.15.0)\n",
      "Requirement already satisfied: certifi in /usr/local/lib/python3.7/dist-packages (from fiona>=1.8->geopandas==0.10.2+5.g6925f68) (2021.5.30)\n",
      "Requirement already satisfied: click-plugins>=1.0 in /usr/local/lib/python3.7/dist-packages (from fiona>=1.8->geopandas==0.10.2+5.g6925f68) (1.1.1)\n",
      "Requirement already satisfied: attrs>=17 in /usr/local/lib/python3.7/dist-packages (from fiona>=1.8->geopandas==0.10.2+5.g6925f68) (21.2.0)\n",
      "Requirement already satisfied: setuptools in /usr/local/lib/python3.7/dist-packages (from fiona>=1.8->geopandas==0.10.2+5.g6925f68) (57.4.0)\n",
      "Requirement already satisfied: python-dateutil>=2.7.3 in /usr/local/lib/python3.7/dist-packages (from pandas>=0.25.0->geopandas==0.10.2+5.g6925f68) (2.8.2)\n",
      "Requirement already satisfied: pytz>=2017.2 in /usr/local/lib/python3.7/dist-packages (from pandas>=0.25.0->geopandas==0.10.2+5.g6925f68) (2018.9)\n",
      "Requirement already satisfied: numpy>=1.15.4 in /usr/local/lib/python3.7/dist-packages (from pandas>=0.25.0->geopandas==0.10.2+5.g6925f68) (1.19.5)\n",
      "Requirement already satisfied: descartes in /usr/local/lib/python3.7/dist-packages (1.1.0)\n",
      "Requirement already satisfied: matplotlib in /usr/local/lib/python3.7/dist-packages (from descartes) (3.2.2)\n",
      "Requirement already satisfied: pyparsing!=2.0.4,!=2.1.2,!=2.1.6,>=2.0.1 in /usr/local/lib/python3.7/dist-packages (from matplotlib->descartes) (2.4.7)\n",
      "Requirement already satisfied: python-dateutil>=2.1 in /usr/local/lib/python3.7/dist-packages (from matplotlib->descartes) (2.8.2)\n",
      "Requirement already satisfied: cycler>=0.10 in /usr/local/lib/python3.7/dist-packages (from matplotlib->descartes) (0.10.0)\n",
      "Requirement already satisfied: kiwisolver>=1.0.1 in /usr/local/lib/python3.7/dist-packages (from matplotlib->descartes) (1.3.2)\n",
      "Requirement already satisfied: numpy>=1.11 in /usr/local/lib/python3.7/dist-packages (from matplotlib->descartes) (1.19.5)\n",
      "Requirement already satisfied: six in /usr/local/lib/python3.7/dist-packages (from cycler>=0.10->matplotlib->descartes) (1.15.0)\n",
      "Requirement already satisfied: folium in /usr/local/lib/python3.7/dist-packages (0.8.3)\n",
      "Requirement already satisfied: six in /usr/local/lib/python3.7/dist-packages (from folium) (1.15.0)\n",
      "Requirement already satisfied: requests in /usr/local/lib/python3.7/dist-packages (from folium) (2.23.0)\n",
      "Requirement already satisfied: branca>=0.3.0 in /usr/local/lib/python3.7/dist-packages (from folium) (0.4.2)\n",
      "Requirement already satisfied: jinja2 in /usr/local/lib/python3.7/dist-packages (from folium) (2.11.3)\n",
      "Requirement already satisfied: numpy in /usr/local/lib/python3.7/dist-packages (from folium) (1.19.5)\n",
      "Requirement already satisfied: MarkupSafe>=0.23 in /usr/local/lib/python3.7/dist-packages (from jinja2->folium) (2.0.1)\n",
      "Requirement already satisfied: urllib3!=1.25.0,!=1.25.1,<1.26,>=1.21.1 in /usr/local/lib/python3.7/dist-packages (from requests->folium) (1.24.3)\n",
      "Requirement already satisfied: chardet<4,>=3.0.2 in /usr/local/lib/python3.7/dist-packages (from requests->folium) (3.0.4)\n",
      "Requirement already satisfied: certifi>=2017.4.17 in /usr/local/lib/python3.7/dist-packages (from requests->folium) (2021.5.30)\n",
      "Requirement already satisfied: idna<3,>=2.5 in /usr/local/lib/python3.7/dist-packages (from requests->folium) (2.10)\n",
      "Requirement already satisfied: plotly_express in /usr/local/lib/python3.7/dist-packages (0.4.1)\n",
      "Requirement already satisfied: pandas>=0.20.0 in /usr/local/lib/python3.7/dist-packages (from plotly_express) (1.1.5)\n",
      "Requirement already satisfied: numpy>=1.11 in /usr/local/lib/python3.7/dist-packages (from plotly_express) (1.19.5)\n",
      "Requirement already satisfied: scipy>=0.18 in /usr/local/lib/python3.7/dist-packages (from plotly_express) (1.4.1)\n",
      "Requirement already satisfied: plotly>=4.1.0 in /usr/local/lib/python3.7/dist-packages (from plotly_express) (4.4.1)\n",
      "Requirement already satisfied: patsy>=0.5 in /usr/local/lib/python3.7/dist-packages (from plotly_express) (0.5.2)\n",
      "Requirement already satisfied: statsmodels>=0.9.0 in /usr/local/lib/python3.7/dist-packages (from plotly_express) (0.10.2)\n",
      "Requirement already satisfied: python-dateutil>=2.7.3 in /usr/local/lib/python3.7/dist-packages (from pandas>=0.20.0->plotly_express) (2.8.2)\n",
      "Requirement already satisfied: pytz>=2017.2 in /usr/local/lib/python3.7/dist-packages (from pandas>=0.20.0->plotly_express) (2018.9)\n",
      "Requirement already satisfied: six in /usr/local/lib/python3.7/dist-packages (from patsy>=0.5->plotly_express) (1.15.0)\n",
      "Requirement already satisfied: retrying>=1.3.3 in /usr/local/lib/python3.7/dist-packages (from plotly>=4.1.0->plotly_express) (1.3.3)\n",
      "CPU times: user 203 ms, sys: 63.7 ms, total: 266 ms\n",
      "Wall time: 21.4 s\n"
     ]
    }
   ],
   "source": [
    "%%time \n",
    "\n",
    "# Important library for many geopython libraries\n",
    "!apt install gdal-bin python-gdal python3-gdal \n",
    "# Install rtree - Geopandas requirment\n",
    "!apt install python3-rtree \n",
    "# Install Geopandas\n",
    "!pip install git+git://github.com/geopandas/geopandas.git\n",
    "# Install descartes - Geopandas requirment\n",
    "!pip install descartes \n",
    "# Install Folium for Geographic data visualization\n",
    "!pip install folium\n",
    "# Install plotlyExpress\n",
    "!pip install plotly_express"
   ]
  },
  {
   "cell_type": "code",
   "execution_count": 2,
   "metadata": {
    "id": "rHbeLQ7iLlE3"
   },
   "outputs": [],
   "source": [
    "import pandas as pd\n",
    "import numpy as np\n",
    "import seaborn as sns\n",
    "import geopandas as gpd\n",
    "import matplotlib.pyplot as plt\n",
    "from shapely.geometry import Point, Polygon, LineString\n",
    "import collections"
   ]
  },
  {
   "cell_type": "code",
   "execution_count": 3,
   "metadata": {
    "id": "aAsZpp3dL2P_"
   },
   "outputs": [],
   "source": [
    "df = pd.read_csv('MO_State_Park_Bison_Locations.csv')"
   ]
  },
  {
   "cell_type": "code",
   "execution_count": 4,
   "metadata": {
    "id": "q_xSyIt9LoO_"
   },
   "outputs": [],
   "source": [
    "df[['Lat', 'Long']] = df.LatLon.str.split(\" \", expand=True,)\n",
    "df = df.drop(['LatLon'], axis=1)\n",
    "lst = df.values.tolist()\n",
    "for i in lst:\n",
    "    i[6] = i[6][1:-1]\n",
    "    i[-1] = i[-1][:-1]"
   ]
  },
  {
   "cell_type": "code",
   "execution_count": 5,
   "metadata": {
    "id": "pv62qaz9Mf67"
   },
   "outputs": [],
   "source": [
    "df = pd.DataFrame(lst, columns = ['RecordID', 'GPSFixUnixTimeCST', 'ESN', 'Name', 'GPSFixDateTime', 'Moving', 'Lat', 'Long'])"
   ]
  },
  {
   "cell_type": "code",
   "execution_count": 6,
   "metadata": {
    "id": "vEHeRD-7MhW7"
   },
   "outputs": [],
   "source": [
    "df['Lat'] = df.Lat.apply(pd.to_numeric)\n",
    "df['Long'] = df.Long.apply(pd.to_numeric)"
   ]
  },
  {
   "cell_type": "code",
   "execution_count": 7,
   "metadata": {
    "colab": {
     "base_uri": "https://localhost:8080/",
     "height": 204
    },
    "id": "U6qaKcD4MiTk",
    "outputId": "e3549ced-488f-4c57-f921-5eaef226ac6f"
   },
   "outputs": [
    {
     "data": {
      "text/html": [
       "<div>\n",
       "<style scoped>\n",
       "    .dataframe tbody tr th:only-of-type {\n",
       "        vertical-align: middle;\n",
       "    }\n",
       "\n",
       "    .dataframe tbody tr th {\n",
       "        vertical-align: top;\n",
       "    }\n",
       "\n",
       "    .dataframe thead th {\n",
       "        text-align: right;\n",
       "    }\n",
       "</style>\n",
       "<table border=\"1\" class=\"dataframe\">\n",
       "  <thead>\n",
       "    <tr style=\"text-align: right;\">\n",
       "      <th></th>\n",
       "      <th>RecordID</th>\n",
       "      <th>GPSFixUnixTimeCST</th>\n",
       "      <th>ESN</th>\n",
       "      <th>Name</th>\n",
       "      <th>GPSFixDateTime</th>\n",
       "      <th>Moving</th>\n",
       "      <th>Lat</th>\n",
       "      <th>Long</th>\n",
       "    </tr>\n",
       "  </thead>\n",
       "  <tbody>\n",
       "    <tr>\n",
       "      <th>0</th>\n",
       "      <td>921992-1411305776</td>\n",
       "      <td>1411304479</td>\n",
       "      <td>921992</td>\n",
       "      <td>Miller Bison 1</td>\n",
       "      <td>9/21/2014 8:01</td>\n",
       "      <td>Y</td>\n",
       "      <td>37.532655</td>\n",
       "      <td>-94.568961</td>\n",
       "    </tr>\n",
       "    <tr>\n",
       "      <th>1</th>\n",
       "      <td>921992-1411316536</td>\n",
       "      <td>1411315239</td>\n",
       "      <td>921992</td>\n",
       "      <td>Miller Bison 1</td>\n",
       "      <td>9/21/2014 11:00</td>\n",
       "      <td>Y</td>\n",
       "      <td>37.534715</td>\n",
       "      <td>-94.561622</td>\n",
       "    </tr>\n",
       "    <tr>\n",
       "      <th>2</th>\n",
       "      <td>921992-1411320662</td>\n",
       "      <td>1411320640</td>\n",
       "      <td>921992</td>\n",
       "      <td>Miller Bison 1</td>\n",
       "      <td>9/21/2014 12:30</td>\n",
       "      <td>N</td>\n",
       "      <td>37.534736</td>\n",
       "      <td>-94.561622</td>\n",
       "    </tr>\n",
       "    <tr>\n",
       "      <th>3</th>\n",
       "      <td>921816-1411320663</td>\n",
       "      <td>1411320641</td>\n",
       "      <td>921816</td>\n",
       "      <td>Miller Bison  2</td>\n",
       "      <td>9/21/2014 12:30</td>\n",
       "      <td>N</td>\n",
       "      <td>37.534715</td>\n",
       "      <td>-94.561751</td>\n",
       "    </tr>\n",
       "    <tr>\n",
       "      <th>4</th>\n",
       "      <td>921992-1411326565</td>\n",
       "      <td>1411326040</td>\n",
       "      <td>921992</td>\n",
       "      <td>Miller Bison 1</td>\n",
       "      <td>9/21/2014 14:00</td>\n",
       "      <td>Y</td>\n",
       "      <td>37.534329</td>\n",
       "      <td>-94.554648</td>\n",
       "    </tr>\n",
       "  </tbody>\n",
       "</table>\n",
       "</div>"
      ],
      "text/plain": [
       "            RecordID  GPSFixUnixTimeCST     ESN  ... Moving        Lat       Long\n",
       "0  921992-1411305776         1411304479  921992  ...      Y  37.532655 -94.568961\n",
       "1  921992-1411316536         1411315239  921992  ...      Y  37.534715 -94.561622\n",
       "2  921992-1411320662         1411320640  921992  ...      N  37.534736 -94.561622\n",
       "3  921816-1411320663         1411320641  921816  ...      N  37.534715 -94.561751\n",
       "4  921992-1411326565         1411326040  921992  ...      Y  37.534329 -94.554648\n",
       "\n",
       "[5 rows x 8 columns]"
      ]
     },
     "execution_count": 7,
     "metadata": {},
     "output_type": "execute_result"
    }
   ],
   "source": [
    "df.head()"
   ]
  },
  {
   "cell_type": "code",
   "execution_count": 8,
   "metadata": {
    "id": "v0JQoFNvMnn3"
   },
   "outputs": [],
   "source": [
    "gdf = gpd.GeoDataFrame(df, geometry=gpd.points_from_xy(df.Long, df.Lat))"
   ]
  },
  {
   "cell_type": "code",
   "execution_count": 9,
   "metadata": {
    "colab": {
     "base_uri": "https://localhost:8080/",
     "height": 204
    },
    "id": "mUpCLiGFMo7M",
    "outputId": "7acb2c69-a5d1-496a-f9e3-52549f2e3807"
   },
   "outputs": [
    {
     "data": {
      "text/html": [
       "<div>\n",
       "<style scoped>\n",
       "    .dataframe tbody tr th:only-of-type {\n",
       "        vertical-align: middle;\n",
       "    }\n",
       "\n",
       "    .dataframe tbody tr th {\n",
       "        vertical-align: top;\n",
       "    }\n",
       "\n",
       "    .dataframe thead th {\n",
       "        text-align: right;\n",
       "    }\n",
       "</style>\n",
       "<table border=\"1\" class=\"dataframe\">\n",
       "  <thead>\n",
       "    <tr style=\"text-align: right;\">\n",
       "      <th></th>\n",
       "      <th>RecordID</th>\n",
       "      <th>GPSFixUnixTimeCST</th>\n",
       "      <th>ESN</th>\n",
       "      <th>Name</th>\n",
       "      <th>GPSFixDateTime</th>\n",
       "      <th>Moving</th>\n",
       "      <th>Lat</th>\n",
       "      <th>Long</th>\n",
       "      <th>geometry</th>\n",
       "    </tr>\n",
       "  </thead>\n",
       "  <tbody>\n",
       "    <tr>\n",
       "      <th>0</th>\n",
       "      <td>921992-1411305776</td>\n",
       "      <td>1411304479</td>\n",
       "      <td>921992</td>\n",
       "      <td>Miller Bison 1</td>\n",
       "      <td>9/21/2014 8:01</td>\n",
       "      <td>Y</td>\n",
       "      <td>37.532655</td>\n",
       "      <td>-94.568961</td>\n",
       "      <td>POINT (-94.56896 37.53265)</td>\n",
       "    </tr>\n",
       "    <tr>\n",
       "      <th>1</th>\n",
       "      <td>921992-1411316536</td>\n",
       "      <td>1411315239</td>\n",
       "      <td>921992</td>\n",
       "      <td>Miller Bison 1</td>\n",
       "      <td>9/21/2014 11:00</td>\n",
       "      <td>Y</td>\n",
       "      <td>37.534715</td>\n",
       "      <td>-94.561622</td>\n",
       "      <td>POINT (-94.56162 37.53472)</td>\n",
       "    </tr>\n",
       "    <tr>\n",
       "      <th>2</th>\n",
       "      <td>921992-1411320662</td>\n",
       "      <td>1411320640</td>\n",
       "      <td>921992</td>\n",
       "      <td>Miller Bison 1</td>\n",
       "      <td>9/21/2014 12:30</td>\n",
       "      <td>N</td>\n",
       "      <td>37.534736</td>\n",
       "      <td>-94.561622</td>\n",
       "      <td>POINT (-94.56162 37.53474)</td>\n",
       "    </tr>\n",
       "    <tr>\n",
       "      <th>3</th>\n",
       "      <td>921816-1411320663</td>\n",
       "      <td>1411320641</td>\n",
       "      <td>921816</td>\n",
       "      <td>Miller Bison  2</td>\n",
       "      <td>9/21/2014 12:30</td>\n",
       "      <td>N</td>\n",
       "      <td>37.534715</td>\n",
       "      <td>-94.561751</td>\n",
       "      <td>POINT (-94.56175 37.53472)</td>\n",
       "    </tr>\n",
       "    <tr>\n",
       "      <th>4</th>\n",
       "      <td>921992-1411326565</td>\n",
       "      <td>1411326040</td>\n",
       "      <td>921992</td>\n",
       "      <td>Miller Bison 1</td>\n",
       "      <td>9/21/2014 14:00</td>\n",
       "      <td>Y</td>\n",
       "      <td>37.534329</td>\n",
       "      <td>-94.554648</td>\n",
       "      <td>POINT (-94.55465 37.53433)</td>\n",
       "    </tr>\n",
       "  </tbody>\n",
       "</table>\n",
       "</div>"
      ],
      "text/plain": [
       "            RecordID  GPSFixUnixTimeCST  ...       Long                    geometry\n",
       "0  921992-1411305776         1411304479  ... -94.568961  POINT (-94.56896 37.53265)\n",
       "1  921992-1411316536         1411315239  ... -94.561622  POINT (-94.56162 37.53472)\n",
       "2  921992-1411320662         1411320640  ... -94.561622  POINT (-94.56162 37.53474)\n",
       "3  921816-1411320663         1411320641  ... -94.561751  POINT (-94.56175 37.53472)\n",
       "4  921992-1411326565         1411326040  ... -94.554648  POINT (-94.55465 37.53433)\n",
       "\n",
       "[5 rows x 9 columns]"
      ]
     },
     "execution_count": 9,
     "metadata": {},
     "output_type": "execute_result"
    }
   ],
   "source": [
    "gdf.head()"
   ]
  },
  {
   "cell_type": "code",
   "execution_count": 10,
   "metadata": {
    "id": "brkD9dPCMqpk"
   },
   "outputs": [],
   "source": [
    "usa = gpd.read_file('states.shp')"
   ]
  },
  {
   "cell_type": "code",
   "execution_count": 11,
   "metadata": {
    "colab": {
     "base_uri": "https://localhost:8080/",
     "height": 204
    },
    "id": "cIhZvDXVMv-U",
    "outputId": "c47deaca-1927-4e8f-c865-e00c70b7d314"
   },
   "outputs": [
    {
     "data": {
      "text/html": [
       "<div>\n",
       "<style scoped>\n",
       "    .dataframe tbody tr th:only-of-type {\n",
       "        vertical-align: middle;\n",
       "    }\n",
       "\n",
       "    .dataframe tbody tr th {\n",
       "        vertical-align: top;\n",
       "    }\n",
       "\n",
       "    .dataframe thead th {\n",
       "        text-align: right;\n",
       "    }\n",
       "</style>\n",
       "<table border=\"1\" class=\"dataframe\">\n",
       "  <thead>\n",
       "    <tr style=\"text-align: right;\">\n",
       "      <th></th>\n",
       "      <th>STATE_NAME</th>\n",
       "      <th>DRAWSEQ</th>\n",
       "      <th>STATE_FIPS</th>\n",
       "      <th>SUB_REGION</th>\n",
       "      <th>STATE_ABBR</th>\n",
       "      <th>geometry</th>\n",
       "    </tr>\n",
       "  </thead>\n",
       "  <tbody>\n",
       "    <tr>\n",
       "      <th>0</th>\n",
       "      <td>Hawaii</td>\n",
       "      <td>1</td>\n",
       "      <td>15</td>\n",
       "      <td>Pacific</td>\n",
       "      <td>HI</td>\n",
       "      <td>MULTIPOLYGON (((-160.07380 22.00418, -160.0497...</td>\n",
       "    </tr>\n",
       "    <tr>\n",
       "      <th>1</th>\n",
       "      <td>Washington</td>\n",
       "      <td>2</td>\n",
       "      <td>53</td>\n",
       "      <td>Pacific</td>\n",
       "      <td>WA</td>\n",
       "      <td>MULTIPOLYGON (((-122.40202 48.22522, -122.4628...</td>\n",
       "    </tr>\n",
       "    <tr>\n",
       "      <th>2</th>\n",
       "      <td>Montana</td>\n",
       "      <td>3</td>\n",
       "      <td>30</td>\n",
       "      <td>Mountain</td>\n",
       "      <td>MT</td>\n",
       "      <td>POLYGON ((-111.47543 44.70216, -111.48080 44.6...</td>\n",
       "    </tr>\n",
       "    <tr>\n",
       "      <th>3</th>\n",
       "      <td>Maine</td>\n",
       "      <td>4</td>\n",
       "      <td>23</td>\n",
       "      <td>New England</td>\n",
       "      <td>ME</td>\n",
       "      <td>MULTIPOLYGON (((-69.77728 44.07415, -69.85993 ...</td>\n",
       "    </tr>\n",
       "    <tr>\n",
       "      <th>4</th>\n",
       "      <td>North Dakota</td>\n",
       "      <td>5</td>\n",
       "      <td>38</td>\n",
       "      <td>West North Central</td>\n",
       "      <td>ND</td>\n",
       "      <td>POLYGON ((-98.73044 45.93827, -99.00683 45.939...</td>\n",
       "    </tr>\n",
       "  </tbody>\n",
       "</table>\n",
       "</div>"
      ],
      "text/plain": [
       "     STATE_NAME  ...                                           geometry\n",
       "0        Hawaii  ...  MULTIPOLYGON (((-160.07380 22.00418, -160.0497...\n",
       "1    Washington  ...  MULTIPOLYGON (((-122.40202 48.22522, -122.4628...\n",
       "2       Montana  ...  POLYGON ((-111.47543 44.70216, -111.48080 44.6...\n",
       "3         Maine  ...  MULTIPOLYGON (((-69.77728 44.07415, -69.85993 ...\n",
       "4  North Dakota  ...  POLYGON ((-98.73044 45.93827, -99.00683 45.939...\n",
       "\n",
       "[5 rows x 6 columns]"
      ]
     },
     "execution_count": 11,
     "metadata": {},
     "output_type": "execute_result"
    }
   ],
   "source": [
    "usa.head()"
   ]
  },
  {
   "cell_type": "code",
   "execution_count": 12,
   "metadata": {
    "colab": {
     "base_uri": "https://localhost:8080/",
     "height": 282
    },
    "id": "5NgjTL7OMxaS",
    "outputId": "5f904edd-c838-4e7d-f315-52f38993e0e7"
   },
   "outputs": [
    {
     "data": {
      "text/plain": [
       "<matplotlib.axes._subplots.AxesSubplot at 0x7f5ce6b8a4d0>"
      ]
     },
     "execution_count": 12,
     "metadata": {},
     "output_type": "execute_result"
    },
    {
     "data": {
      "image/png": "[encoded data removed]",
      "text/plain": [
       "<Figure size 432x288 with 1 Axes>"
      ]
     },
     "metadata": {
      "needs_background": "light"
     },
     "output_type": "display_data"
    }
   ],
   "source": [
    "usa[usa.STATE_ABBR == 'MO'].plot()"
   ]
  },
  {
   "cell_type": "code",
   "execution_count": 13,
   "metadata": {
    "colab": {
     "base_uri": "https://localhost:8080/",
     "height": 374
    },
    "id": "uVZNAyh2Myok",
    "outputId": "33747132-0c63-4412-d8fd-3ef85e1ae908"
   },
   "outputs": [
    {
     "data": {
      "text/plain": [
       "<matplotlib.legend.Legend at 0x7f5cde537290>"
      ]
     },
     "execution_count": 13,
     "metadata": {},
     "output_type": "execute_result"
    },
    {
     "data": {
      "image/png": "[encoded data removed]",
      "text/plain": [
       "<Figure size 1800x1800 with 1 Axes>"
      ]
     },
     "metadata": {
      "needs_background": "light"
     },
     "output_type": "display_data"
    }
   ],
   "source": [
    "fig, ax = plt.subplots(figsize=(25, 25))\n",
    "usa[usa.STATE_ABBR == 'MO'].plot(ax = ax, alpha = 0.4, color = 'grey')\n",
    "gdf[gdf['ESN']==921992].plot(ax = ax, markersize = 20, color = 'red', marker='o', label='921992')\n",
    "gdf[gdf['ESN']==921816].plot(ax = ax, markersize = 20, color = 'blue', marker='^', label='921816')\n",
    "gdf[gdf['ESN']==921993].plot(ax = ax, markersize = 20, color = 'yellow', marker='^', label='921993')\n",
    "gdf[gdf['ESN']==919460].plot(ax = ax, markersize = 20, color = 'green', marker='^', label='919460')\n",
    "plt.legend(prop={'size':15})"
   ]
  },
  {
   "cell_type": "code",
   "execution_count": 14,
   "metadata": {
    "colab": {
     "base_uri": "https://localhost:8080/",
     "height": 160
    },
    "id": "nscGRzUyM0gR",
    "outputId": "e4c50334-de7c-4d38-cd1e-d433ecfada25"
   },
   "outputs": [
    {
     "data": {
      "text/plain": [
       "<matplotlib.axes._subplots.AxesSubplot at 0x7f5cdea45450>"
      ]
     },
     "execution_count": 14,
     "metadata": {},
     "output_type": "execute_result"
    },
    {
     "data": {
      "image/png": "[encoded data removed]",
      "text/plain": [
       "<Figure size 1080x1080 with 1 Axes>"
      ]
     },
     "metadata": {
      "needs_background": "light"
     },
     "output_type": "display_data"
    }
   ],
   "source": [
    "fig, ax = plt.subplots(figsize=(15, 15))\n",
    "usa[usa.STATE_ABBR == 'MD'].plot(ax = ax, alpha = 0.4, color = 'grey')\n",
    "usa[usa.STATE_ABBR == 'DC'].plot(ax = ax, alpha = 0.4, color = 'RED')\n",
    "gdf.plot(ax = ax, markersize = 20, color = 'blue', marker='o')"
   ]
  },
  {
   "cell_type": "code",
   "execution_count": 15,
   "metadata": {
    "id": "LM_RKlIcNEAW"
   },
   "outputs": [],
   "source": [
    "df_2 = pd.read_csv('bison-Bison-SouthDakota.csv')"
   ]
  },
  {
   "cell_type": "code",
   "execution_count": 16,
   "metadata": {
    "id": "5HrPnxpVNGTK"
   },
   "outputs": [],
   "source": [
    "df_SD_location = df_2[['bisonID','eventDate', 'year', 'decimalLatitude', 'decimalLongitude']]"
   ]
  },
  {
   "cell_type": "code",
   "execution_count": 17,
   "metadata": {
    "id": "9ej-ptDSNHix"
   },
   "outputs": [],
   "source": [
    "gdf_SD = gpd.GeoDataFrame(df_SD_location, geometry=gpd.points_from_xy(df_SD_location.decimalLongitude, df_SD_location.decimalLatitude))"
   ]
  },
  {
   "cell_type": "code",
   "execution_count": 18,
   "metadata": {
    "id": "uboW8p-fNJG3"
   },
   "outputs": [],
   "source": [
    "bison_lst_SD = []\n",
    "for i in gdf_SD.geometry:\n",
    "    bison_lst_SD.append(i)"
   ]
  },
  {
   "cell_type": "code",
   "execution_count": 19,
   "metadata": {
    "colab": {
     "base_uri": "https://localhost:8080/",
     "height": 444
    },
    "id": "G9InRpH4NKcf",
    "outputId": "7ee906f1-1ad7-4530-b754-ceaa22e6f7b2"
   },
   "outputs": [
    {
     "data": {
      "text/plain": [
       "<matplotlib.axes._subplots.AxesSubplot at 0x7f5cdd1aad50>"
      ]
     },
     "execution_count": 19,
     "metadata": {},
     "output_type": "execute_result"
    },
    {
     "data": {
      "image/png": "[encoded data removed]",
      "text/plain": [
       "<Figure size 1080x1080 with 1 Axes>"
      ]
     },
     "metadata": {
      "needs_background": "light"
     },
     "output_type": "display_data"
    }
   ],
   "source": [
    "fig, ax = plt.subplots(figsize=(15, 15))\n",
    "usa[usa.STATE_ABBR == 'SD'].plot(ax = ax, alpha = 0.4)\n",
    "gdf_SD.plot(ax = ax, markersize = 20, marker='o')"
   ]
  },
  {
   "cell_type": "code",
   "execution_count": 20,
   "metadata": {
    "id": "4H7D5LvXNQWw"
   },
   "outputs": [],
   "source": [
    "df_weather_SD = pd.read_csv('ggweather_SD.csv')"
   ]
  },
  {
   "cell_type": "code",
   "execution_count": 21,
   "metadata": {
    "colab": {
     "base_uri": "https://localhost:8080/",
     "height": 309
    },
    "id": "lpE4PmyeNSvh",
    "outputId": "634e17c3-cd32-4fc0-9539-b99406354dd1"
   },
   "outputs": [
    {
     "data": {
      "text/html": [
       "<div>\n",
       "<style scoped>\n",
       "    .dataframe tbody tr th:only-of-type {\n",
       "        vertical-align: middle;\n",
       "    }\n",
       "\n",
       "    .dataframe tbody tr th {\n",
       "        vertical-align: top;\n",
       "    }\n",
       "\n",
       "    .dataframe thead th {\n",
       "        text-align: right;\n",
       "    }\n",
       "</style>\n",
       "<table border=\"1\" class=\"dataframe\">\n",
       "  <thead>\n",
       "    <tr style=\"text-align: right;\">\n",
       "      <th></th>\n",
       "      <th>Unnamed: 0</th>\n",
       "      <th>Location</th>\n",
       "      <th>State</th>\n",
       "      <th>ID</th>\n",
       "      <th>Latitude</th>\n",
       "      <th>Longitude</th>\n",
       "      <th>Elevation</th>\n",
       "      <th>Jan_max</th>\n",
       "      <th>Feb_max</th>\n",
       "      <th>Mar_max</th>\n",
       "      <th>Apr_max</th>\n",
       "      <th>May_max</th>\n",
       "      <th>Jun_max</th>\n",
       "      <th>Jul_max</th>\n",
       "      <th>Aug_max</th>\n",
       "      <th>Sep_max</th>\n",
       "      <th>Oct_max</th>\n",
       "      <th>Nov_max</th>\n",
       "      <th>Dec_max</th>\n",
       "      <th>Jan_min</th>\n",
       "      <th>Feb_min</th>\n",
       "      <th>Mar_min</th>\n",
       "      <th>Apr_min</th>\n",
       "      <th>May_min</th>\n",
       "      <th>Jun_min</th>\n",
       "      <th>Jul_min</th>\n",
       "      <th>Aug_min</th>\n",
       "      <th>Sep_min</th>\n",
       "      <th>Oct_min</th>\n",
       "      <th>Nov_min</th>\n",
       "      <th>Dec_min</th>\n",
       "      <th>Jan_Prec</th>\n",
       "      <th>Feb_Prec</th>\n",
       "      <th>Mar_Prec</th>\n",
       "      <th>Apr_Prec</th>\n",
       "      <th>May_Prec</th>\n",
       "      <th>Jun_Prec</th>\n",
       "      <th>Jul_Prec</th>\n",
       "      <th>Aug_Prec</th>\n",
       "      <th>Sep_Prec</th>\n",
       "      <th>Oct_Prec</th>\n",
       "      <th>Nov_Prec</th>\n",
       "      <th>Dec_Prec</th>\n",
       "      <th>Jan_Snow</th>\n",
       "      <th>Feb_Snow</th>\n",
       "      <th>Mar_Snow</th>\n",
       "      <th>Apr_Snow</th>\n",
       "      <th>May_Snow</th>\n",
       "      <th>Jun_Snow</th>\n",
       "      <th>Jul_Snow</th>\n",
       "      <th>Aug_Snow</th>\n",
       "      <th>Sep_Snow</th>\n",
       "      <th>Oct_Snow</th>\n",
       "      <th>Nov_Snow</th>\n",
       "      <th>Dec_Snow</th>\n",
       "    </tr>\n",
       "  </thead>\n",
       "  <tbody>\n",
       "    <tr>\n",
       "      <th>0</th>\n",
       "      <td>0</td>\n",
       "      <td>ABERDEEN</td>\n",
       "      <td>SD</td>\n",
       "      <td>USW00014929</td>\n",
       "      <td>45.4558</td>\n",
       "      <td>-98.4131</td>\n",
       "      <td>396.8</td>\n",
       "      <td>23.7</td>\n",
       "      <td>28.6</td>\n",
       "      <td>41.7</td>\n",
       "      <td>57.6</td>\n",
       "      <td>70.4</td>\n",
       "      <td>80.2</td>\n",
       "      <td>84.9</td>\n",
       "      <td>82.9</td>\n",
       "      <td>74.9</td>\n",
       "      <td>59.3</td>\n",
       "      <td>42.5</td>\n",
       "      <td>28.7</td>\n",
       "      <td>1.9</td>\n",
       "      <td>6.3</td>\n",
       "      <td>19.4</td>\n",
       "      <td>31.4</td>\n",
       "      <td>44.3</td>\n",
       "      <td>55.1</td>\n",
       "      <td>59.7</td>\n",
       "      <td>56.5</td>\n",
       "      <td>46.8</td>\n",
       "      <td>33.3</td>\n",
       "      <td>19.4</td>\n",
       "      <td>7.9</td>\n",
       "      <td>0.55</td>\n",
       "      <td>0.62</td>\n",
       "      <td>0.89</td>\n",
       "      <td>1.91</td>\n",
       "      <td>3.28</td>\n",
       "      <td>3.76</td>\n",
       "      <td>3.09</td>\n",
       "      <td>2.24</td>\n",
       "      <td>1.99</td>\n",
       "      <td>2.14</td>\n",
       "      <td>0.74</td>\n",
       "      <td>0.61</td>\n",
       "      <td>7.8</td>\n",
       "      <td>8.6</td>\n",
       "      <td>6.3</td>\n",
       "      <td>4.2</td>\n",
       "      <td>0.0</td>\n",
       "      <td>0.0</td>\n",
       "      <td>0.0</td>\n",
       "      <td>0.0</td>\n",
       "      <td>0.0</td>\n",
       "      <td>1.3</td>\n",
       "      <td>6.5</td>\n",
       "      <td>8.0</td>\n",
       "    </tr>\n",
       "    <tr>\n",
       "      <th>1</th>\n",
       "      <td>1</td>\n",
       "      <td>ABERDEEN 1.0 NNE</td>\n",
       "      <td>SD</td>\n",
       "      <td>US1SDBR0001</td>\n",
       "      <td>45.4810</td>\n",
       "      <td>-98.4732</td>\n",
       "      <td>395.6</td>\n",
       "      <td>0.0</td>\n",
       "      <td>0.0</td>\n",
       "      <td>0.0</td>\n",
       "      <td>0.0</td>\n",
       "      <td>0.0</td>\n",
       "      <td>0.0</td>\n",
       "      <td>0.0</td>\n",
       "      <td>0.0</td>\n",
       "      <td>0.0</td>\n",
       "      <td>0.0</td>\n",
       "      <td>0.0</td>\n",
       "      <td>0.0</td>\n",
       "      <td>0.0</td>\n",
       "      <td>0.0</td>\n",
       "      <td>0.0</td>\n",
       "      <td>0.0</td>\n",
       "      <td>0.0</td>\n",
       "      <td>0.0</td>\n",
       "      <td>0.0</td>\n",
       "      <td>0.0</td>\n",
       "      <td>0.0</td>\n",
       "      <td>0.0</td>\n",
       "      <td>0.0</td>\n",
       "      <td>0.0</td>\n",
       "      <td>0.56</td>\n",
       "      <td>0.58</td>\n",
       "      <td>0.91</td>\n",
       "      <td>1.98</td>\n",
       "      <td>3.61</td>\n",
       "      <td>3.71</td>\n",
       "      <td>3.45</td>\n",
       "      <td>2.52</td>\n",
       "      <td>2.15</td>\n",
       "      <td>2.04</td>\n",
       "      <td>0.71</td>\n",
       "      <td>0.64</td>\n",
       "      <td>0.0</td>\n",
       "      <td>0.0</td>\n",
       "      <td>0.0</td>\n",
       "      <td>0.0</td>\n",
       "      <td>0.0</td>\n",
       "      <td>0.0</td>\n",
       "      <td>0.0</td>\n",
       "      <td>0.0</td>\n",
       "      <td>0.0</td>\n",
       "      <td>0.0</td>\n",
       "      <td>0.0</td>\n",
       "      <td>0.0</td>\n",
       "    </tr>\n",
       "    <tr>\n",
       "      <th>2</th>\n",
       "      <td>2</td>\n",
       "      <td>ABERDEEN 1.5 SSW</td>\n",
       "      <td>SD</td>\n",
       "      <td>US1SDBR0011</td>\n",
       "      <td>45.4468</td>\n",
       "      <td>-98.4909</td>\n",
       "      <td>396.2</td>\n",
       "      <td>0.0</td>\n",
       "      <td>0.0</td>\n",
       "      <td>0.0</td>\n",
       "      <td>0.0</td>\n",
       "      <td>0.0</td>\n",
       "      <td>0.0</td>\n",
       "      <td>0.0</td>\n",
       "      <td>0.0</td>\n",
       "      <td>0.0</td>\n",
       "      <td>0.0</td>\n",
       "      <td>0.0</td>\n",
       "      <td>0.0</td>\n",
       "      <td>0.0</td>\n",
       "      <td>0.0</td>\n",
       "      <td>0.0</td>\n",
       "      <td>0.0</td>\n",
       "      <td>0.0</td>\n",
       "      <td>0.0</td>\n",
       "      <td>0.0</td>\n",
       "      <td>0.0</td>\n",
       "      <td>0.0</td>\n",
       "      <td>0.0</td>\n",
       "      <td>0.0</td>\n",
       "      <td>0.0</td>\n",
       "      <td>0.56</td>\n",
       "      <td>0.64</td>\n",
       "      <td>0.97</td>\n",
       "      <td>2.02</td>\n",
       "      <td>3.44</td>\n",
       "      <td>3.83</td>\n",
       "      <td>3.30</td>\n",
       "      <td>2.48</td>\n",
       "      <td>2.22</td>\n",
       "      <td>2.12</td>\n",
       "      <td>0.71</td>\n",
       "      <td>0.62</td>\n",
       "      <td>0.0</td>\n",
       "      <td>0.0</td>\n",
       "      <td>0.0</td>\n",
       "      <td>0.0</td>\n",
       "      <td>0.0</td>\n",
       "      <td>0.0</td>\n",
       "      <td>0.0</td>\n",
       "      <td>0.0</td>\n",
       "      <td>0.0</td>\n",
       "      <td>0.0</td>\n",
       "      <td>0.0</td>\n",
       "      <td>0.0</td>\n",
       "    </tr>\n",
       "    <tr>\n",
       "      <th>3</th>\n",
       "      <td>3</td>\n",
       "      <td>ABERDEEN 1.5 SW</td>\n",
       "      <td>SD</td>\n",
       "      <td>US1SDBR0038</td>\n",
       "      <td>45.4505</td>\n",
       "      <td>-98.5086</td>\n",
       "      <td>398.4</td>\n",
       "      <td>0.0</td>\n",
       "      <td>0.0</td>\n",
       "      <td>0.0</td>\n",
       "      <td>0.0</td>\n",
       "      <td>0.0</td>\n",
       "      <td>0.0</td>\n",
       "      <td>0.0</td>\n",
       "      <td>0.0</td>\n",
       "      <td>0.0</td>\n",
       "      <td>0.0</td>\n",
       "      <td>0.0</td>\n",
       "      <td>0.0</td>\n",
       "      <td>0.0</td>\n",
       "      <td>0.0</td>\n",
       "      <td>0.0</td>\n",
       "      <td>0.0</td>\n",
       "      <td>0.0</td>\n",
       "      <td>0.0</td>\n",
       "      <td>0.0</td>\n",
       "      <td>0.0</td>\n",
       "      <td>0.0</td>\n",
       "      <td>0.0</td>\n",
       "      <td>0.0</td>\n",
       "      <td>0.0</td>\n",
       "      <td>0.53</td>\n",
       "      <td>0.59</td>\n",
       "      <td>0.93</td>\n",
       "      <td>2.03</td>\n",
       "      <td>3.65</td>\n",
       "      <td>3.78</td>\n",
       "      <td>3.19</td>\n",
       "      <td>2.31</td>\n",
       "      <td>2.21</td>\n",
       "      <td>2.00</td>\n",
       "      <td>0.71</td>\n",
       "      <td>0.80</td>\n",
       "      <td>0.0</td>\n",
       "      <td>0.0</td>\n",
       "      <td>0.0</td>\n",
       "      <td>0.0</td>\n",
       "      <td>0.0</td>\n",
       "      <td>0.0</td>\n",
       "      <td>0.0</td>\n",
       "      <td>0.0</td>\n",
       "      <td>0.0</td>\n",
       "      <td>0.0</td>\n",
       "      <td>0.0</td>\n",
       "      <td>0.0</td>\n",
       "    </tr>\n",
       "    <tr>\n",
       "      <th>4</th>\n",
       "      <td>4</td>\n",
       "      <td>ABERDEEN 3 E</td>\n",
       "      <td>SD</td>\n",
       "      <td>USC00390022</td>\n",
       "      <td>45.4553</td>\n",
       "      <td>-98.4142</td>\n",
       "      <td>396.5</td>\n",
       "      <td>20.7</td>\n",
       "      <td>25.2</td>\n",
       "      <td>38.9</td>\n",
       "      <td>54.3</td>\n",
       "      <td>67.7</td>\n",
       "      <td>77.5</td>\n",
       "      <td>82.7</td>\n",
       "      <td>80.7</td>\n",
       "      <td>72.3</td>\n",
       "      <td>57.1</td>\n",
       "      <td>39.7</td>\n",
       "      <td>26.1</td>\n",
       "      <td>1.6</td>\n",
       "      <td>6.2</td>\n",
       "      <td>18.9</td>\n",
       "      <td>31.6</td>\n",
       "      <td>44.5</td>\n",
       "      <td>55.2</td>\n",
       "      <td>59.6</td>\n",
       "      <td>57.1</td>\n",
       "      <td>47.6</td>\n",
       "      <td>33.5</td>\n",
       "      <td>19.6</td>\n",
       "      <td>8.1</td>\n",
       "      <td>0.50</td>\n",
       "      <td>0.59</td>\n",
       "      <td>0.93</td>\n",
       "      <td>1.93</td>\n",
       "      <td>3.37</td>\n",
       "      <td>3.68</td>\n",
       "      <td>3.38</td>\n",
       "      <td>2.38</td>\n",
       "      <td>2.16</td>\n",
       "      <td>2.09</td>\n",
       "      <td>0.74</td>\n",
       "      <td>0.61</td>\n",
       "      <td>0.0</td>\n",
       "      <td>0.0</td>\n",
       "      <td>0.0</td>\n",
       "      <td>0.0</td>\n",
       "      <td>0.0</td>\n",
       "      <td>0.0</td>\n",
       "      <td>0.0</td>\n",
       "      <td>0.0</td>\n",
       "      <td>0.0</td>\n",
       "      <td>0.0</td>\n",
       "      <td>0.0</td>\n",
       "      <td>0.0</td>\n",
       "    </tr>\n",
       "  </tbody>\n",
       "</table>\n",
       "</div>"
      ],
      "text/plain": [
       "   Unnamed: 0           Location State  ... Oct_Snow  Nov_Snow  Dec_Snow\n",
       "0           0          ABERDEEN    SD   ...      1.3       6.5       8.0\n",
       "1           1  ABERDEEN 1.0 NNE    SD   ...      0.0       0.0       0.0\n",
       "2           2  ABERDEEN 1.5 SSW    SD   ...      0.0       0.0       0.0\n",
       "3           3   ABERDEEN 1.5 SW    SD   ...      0.0       0.0       0.0\n",
       "4           4      ABERDEEN 3 E    SD   ...      0.0       0.0       0.0\n",
       "\n",
       "[5 rows x 55 columns]"
      ]
     },
     "execution_count": 21,
     "metadata": {},
     "output_type": "execute_result"
    }
   ],
   "source": [
    "df_weather_SD.head()"
   ]
  },
  {
   "cell_type": "code",
   "execution_count": 22,
   "metadata": {
    "id": "hj8BSfNiNT9T"
   },
   "outputs": [],
   "source": [
    "gdf_weather_SD = gpd.GeoDataFrame(df_weather_SD, geometry=gpd.points_from_xy(df_weather_SD.Longitude, df_weather_SD.Latitude))"
   ]
  },
  {
   "cell_type": "code",
   "execution_count": 23,
   "metadata": {
    "id": "EgTnF5tnNVO1"
   },
   "outputs": [],
   "source": [
    "weather_lst_SD = []\n",
    "for i in gdf_weather_SD.geometry:\n",
    "    weather_lst_SD.append(i)"
   ]
  },
  {
   "cell_type": "code",
   "execution_count": 24,
   "metadata": {
    "colab": {
     "base_uri": "https://localhost:8080/",
     "height": 444
    },
    "id": "DeY5DEW3NWTY",
    "outputId": "c0e44dc7-456d-4140-ab9d-0cec08c34c08"
   },
   "outputs": [
    {
     "data": {
      "text/plain": [
       "<matplotlib.axes._subplots.AxesSubplot at 0x7f5cdd13cad0>"
      ]
     },
     "execution_count": 24,
     "metadata": {},
     "output_type": "execute_result"
    },
    {
     "data": {
      "image/png": "[encoded data removed]",
      "text/plain": [
       "<Figure size 1080x1080 with 1 Axes>"
      ]
     },
     "metadata": {
      "needs_background": "light"
     },
     "output_type": "display_data"
    }
   ],
   "source": [
    "fig, ax = plt.subplots(figsize=(15, 15))\n",
    "usa[usa.STATE_ABBR == 'SD'].plot(ax = ax, alpha = 0.4)\n",
    "gdf_weather_SD.plot(ax = ax, markersize = 20, color = 'blue', marker='o')"
   ]
  },
  {
   "cell_type": "code",
   "execution_count": 25,
   "metadata": {
    "id": "aC2Mp6fwNXV1"
   },
   "outputs": [],
   "source": [
    "lst_point = []\n",
    "for i in bison_lst_SD:\n",
    "    nearst = 50000\n",
    "    for row_index, j in enumerate(weather_lst_SD):\n",
    "        distance = np.sqrt((j.x - i.x)**2 + (j.y - i.y)**2)\n",
    "        if distance < nearst:\n",
    "            nearst = distance\n",
    "            near_point = row_index\n",
    "\n",
    "    lst_point.append(near_point)"
   ]
  },
  {
   "cell_type": "code",
   "execution_count": 26,
   "metadata": {
    "colab": {
     "base_uri": "https://localhost:8080/"
    },
    "id": "iuOJNpITNZBg",
    "outputId": "4e222f66-394c-4d96-81f3-0b7ada39d262"
   },
   "outputs": [
    {
     "data": {
      "text/plain": [
       "Counter({62: 1,\n",
       "         63: 5,\n",
       "         64: 78,\n",
       "         65: 4,\n",
       "         85: 1,\n",
       "         89: 1,\n",
       "         112: 1,\n",
       "         113: 2,\n",
       "         119: 2,\n",
       "         124: 2,\n",
       "         131: 1,\n",
       "         142: 1,\n",
       "         180: 2,\n",
       "         208: 1,\n",
       "         228: 2,\n",
       "         257: 89,\n",
       "         258: 1691,\n",
       "         270: 695,\n",
       "         275: 1})"
      ]
     },
     "execution_count": 26,
     "metadata": {},
     "output_type": "execute_result"
    }
   ],
   "source": [
    "collections.Counter(lst_point)"
   ]
  },
  {
   "cell_type": "code",
   "execution_count": 27,
   "metadata": {
    "id": "pm5OCcEJNsaN"
   },
   "outputs": [],
   "source": [
    "# use 64, 270 and 258 \n",
    "new_df = gdf_weather_SD.iloc[[64, 257, 258, 270],:]"
   ]
  },
  {
   "cell_type": "code",
   "execution_count": 28,
   "metadata": {
    "colab": {
     "base_uri": "https://localhost:8080/",
     "height": 444
    },
    "id": "DIe3pUkbNxFa",
    "outputId": "833b4e0c-f2c7-47d9-c593-64797d393bd5"
   },
   "outputs": [
    {
     "data": {
      "text/plain": [
       "<matplotlib.axes._subplots.AxesSubplot at 0x7f5cdd05f710>"
      ]
     },
     "execution_count": 28,
     "metadata": {},
     "output_type": "execute_result"
    },
    {
     "data": {
      "image/png": "[encoded data removed]",
      "text/plain": [
       "<Figure size 1080x1080 with 1 Axes>"
      ]
     },
     "metadata": {
      "needs_background": "light"
     },
     "output_type": "display_data"
    }
   ],
   "source": [
    "fig, ax = plt.subplots(figsize=(15, 15))\n",
    "usa[usa.STATE_ABBR == 'SD'].plot(ax = ax, alpha = 0.4, color = 'gray')\n",
    "gdf_SD.plot(ax = ax, markersize = 20, color = 'red', marker='o')\n",
    "new_df.plot(ax = ax, markersize = 20, color = 'blue', marker='o')"
   ]
  },
  {
   "cell_type": "code",
   "execution_count": 29,
   "metadata": {
    "colab": {
     "base_uri": "https://localhost:8080/",
     "height": 346
    },
    "id": "Jwgx2LQTNyNw",
    "outputId": "f3590e33-5b1e-493f-e274-4e386c78920b"
   },
   "outputs": [
    {
     "data": {
      "text/html": [
       "<div>\n",
       "<style scoped>\n",
       "    .dataframe tbody tr th:only-of-type {\n",
       "        vertical-align: middle;\n",
       "    }\n",
       "\n",
       "    .dataframe tbody tr th {\n",
       "        vertical-align: top;\n",
       "    }\n",
       "\n",
       "    .dataframe thead th {\n",
       "        text-align: right;\n",
       "    }\n",
       "</style>\n",
       "<table border=\"1\" class=\"dataframe\">\n",
       "  <thead>\n",
       "    <tr style=\"text-align: right;\">\n",
       "      <th></th>\n",
       "      <th>Unnamed: 0</th>\n",
       "      <th>Location</th>\n",
       "      <th>State</th>\n",
       "      <th>ID</th>\n",
       "      <th>Latitude</th>\n",
       "      <th>Longitude</th>\n",
       "      <th>Elevation</th>\n",
       "      <th>Jan_max</th>\n",
       "      <th>Feb_max</th>\n",
       "      <th>Mar_max</th>\n",
       "      <th>Apr_max</th>\n",
       "      <th>May_max</th>\n",
       "      <th>Jun_max</th>\n",
       "      <th>Jul_max</th>\n",
       "      <th>Aug_max</th>\n",
       "      <th>Sep_max</th>\n",
       "      <th>Oct_max</th>\n",
       "      <th>Nov_max</th>\n",
       "      <th>Dec_max</th>\n",
       "      <th>Jan_min</th>\n",
       "      <th>Feb_min</th>\n",
       "      <th>Mar_min</th>\n",
       "      <th>Apr_min</th>\n",
       "      <th>May_min</th>\n",
       "      <th>Jun_min</th>\n",
       "      <th>Jul_min</th>\n",
       "      <th>Aug_min</th>\n",
       "      <th>Sep_min</th>\n",
       "      <th>Oct_min</th>\n",
       "      <th>Nov_min</th>\n",
       "      <th>Dec_min</th>\n",
       "      <th>Jan_Prec</th>\n",
       "      <th>Feb_Prec</th>\n",
       "      <th>Mar_Prec</th>\n",
       "      <th>Apr_Prec</th>\n",
       "      <th>May_Prec</th>\n",
       "      <th>Jun_Prec</th>\n",
       "      <th>Jul_Prec</th>\n",
       "      <th>Aug_Prec</th>\n",
       "      <th>Sep_Prec</th>\n",
       "      <th>Oct_Prec</th>\n",
       "      <th>Nov_Prec</th>\n",
       "      <th>Dec_Prec</th>\n",
       "      <th>Jan_Snow</th>\n",
       "      <th>Feb_Snow</th>\n",
       "      <th>Mar_Snow</th>\n",
       "      <th>Apr_Snow</th>\n",
       "      <th>May_Snow</th>\n",
       "      <th>Jun_Snow</th>\n",
       "      <th>Jul_Snow</th>\n",
       "      <th>Aug_Snow</th>\n",
       "      <th>Sep_Snow</th>\n",
       "      <th>Oct_Snow</th>\n",
       "      <th>Nov_Snow</th>\n",
       "      <th>Dec_Snow</th>\n",
       "      <th>geometry</th>\n",
       "    </tr>\n",
       "  </thead>\n",
       "  <tbody>\n",
       "    <tr>\n",
       "      <th>64</th>\n",
       "      <td>64</td>\n",
       "      <td>CUSTER 10.2 E</td>\n",
       "      <td>SD</td>\n",
       "      <td>US1SDCS0001</td>\n",
       "      <td>43.7708</td>\n",
       "      <td>-103.3964</td>\n",
       "      <td>1321.0</td>\n",
       "      <td>0.0</td>\n",
       "      <td>0.0</td>\n",
       "      <td>0.0</td>\n",
       "      <td>0.0</td>\n",
       "      <td>0.0</td>\n",
       "      <td>0.0</td>\n",
       "      <td>0.0</td>\n",
       "      <td>0.0</td>\n",
       "      <td>0.0</td>\n",
       "      <td>0.0</td>\n",
       "      <td>0.0</td>\n",
       "      <td>0.0</td>\n",
       "      <td>0.0</td>\n",
       "      <td>0.0</td>\n",
       "      <td>0.0</td>\n",
       "      <td>0.0</td>\n",
       "      <td>0.0</td>\n",
       "      <td>0.0</td>\n",
       "      <td>0.0</td>\n",
       "      <td>0.0</td>\n",
       "      <td>0.0</td>\n",
       "      <td>0.0</td>\n",
       "      <td>0.0</td>\n",
       "      <td>0.0</td>\n",
       "      <td>0.41</td>\n",
       "      <td>0.59</td>\n",
       "      <td>1.05</td>\n",
       "      <td>2.40</td>\n",
       "      <td>4.23</td>\n",
       "      <td>3.55</td>\n",
       "      <td>3.39</td>\n",
       "      <td>2.27</td>\n",
       "      <td>1.76</td>\n",
       "      <td>1.51</td>\n",
       "      <td>0.53</td>\n",
       "      <td>0.42</td>\n",
       "      <td>0.0</td>\n",
       "      <td>0.0</td>\n",
       "      <td>0.0</td>\n",
       "      <td>0.0</td>\n",
       "      <td>0.0</td>\n",
       "      <td>0.0</td>\n",
       "      <td>0.0</td>\n",
       "      <td>0.0</td>\n",
       "      <td>0.0</td>\n",
       "      <td>0.0</td>\n",
       "      <td>0.0</td>\n",
       "      <td>0.0</td>\n",
       "      <td>POINT (-103.39640 43.77080)</td>\n",
       "    </tr>\n",
       "    <tr>\n",
       "      <th>257</th>\n",
       "      <td>257</td>\n",
       "      <td>WASTA</td>\n",
       "      <td>SD</td>\n",
       "      <td>USC00398911</td>\n",
       "      <td>44.0681</td>\n",
       "      <td>-102.4497</td>\n",
       "      <td>709.6</td>\n",
       "      <td>35.1</td>\n",
       "      <td>39.0</td>\n",
       "      <td>50.2</td>\n",
       "      <td>60.1</td>\n",
       "      <td>69.7</td>\n",
       "      <td>80.4</td>\n",
       "      <td>89.0</td>\n",
       "      <td>88.3</td>\n",
       "      <td>79.1</td>\n",
       "      <td>63.1</td>\n",
       "      <td>49.0</td>\n",
       "      <td>37.4</td>\n",
       "      <td>9.4</td>\n",
       "      <td>12.6</td>\n",
       "      <td>22.2</td>\n",
       "      <td>32.6</td>\n",
       "      <td>43.5</td>\n",
       "      <td>53.9</td>\n",
       "      <td>60.1</td>\n",
       "      <td>58.0</td>\n",
       "      <td>47.3</td>\n",
       "      <td>33.6</td>\n",
       "      <td>21.0</td>\n",
       "      <td>11.7</td>\n",
       "      <td>0.28</td>\n",
       "      <td>0.53</td>\n",
       "      <td>0.87</td>\n",
       "      <td>1.90</td>\n",
       "      <td>3.55</td>\n",
       "      <td>2.73</td>\n",
       "      <td>2.32</td>\n",
       "      <td>1.56</td>\n",
       "      <td>1.19</td>\n",
       "      <td>1.76</td>\n",
       "      <td>0.64</td>\n",
       "      <td>0.32</td>\n",
       "      <td>3.8</td>\n",
       "      <td>6.4</td>\n",
       "      <td>5.5</td>\n",
       "      <td>3.7</td>\n",
       "      <td>0.1</td>\n",
       "      <td>0.0</td>\n",
       "      <td>0.0</td>\n",
       "      <td>0.0</td>\n",
       "      <td>0.0</td>\n",
       "      <td>1.1</td>\n",
       "      <td>4.2</td>\n",
       "      <td>5.6</td>\n",
       "      <td>POINT (-102.44970 44.06810)</td>\n",
       "    </tr>\n",
       "    <tr>\n",
       "      <th>258</th>\n",
       "      <td>258</td>\n",
       "      <td>WASTA 21.6 SSW</td>\n",
       "      <td>SD</td>\n",
       "      <td>US1SDPN0019</td>\n",
       "      <td>43.7810</td>\n",
       "      <td>-102.6168</td>\n",
       "      <td>894.0</td>\n",
       "      <td>0.0</td>\n",
       "      <td>0.0</td>\n",
       "      <td>0.0</td>\n",
       "      <td>0.0</td>\n",
       "      <td>0.0</td>\n",
       "      <td>0.0</td>\n",
       "      <td>0.0</td>\n",
       "      <td>0.0</td>\n",
       "      <td>0.0</td>\n",
       "      <td>0.0</td>\n",
       "      <td>0.0</td>\n",
       "      <td>0.0</td>\n",
       "      <td>0.0</td>\n",
       "      <td>0.0</td>\n",
       "      <td>0.0</td>\n",
       "      <td>0.0</td>\n",
       "      <td>0.0</td>\n",
       "      <td>0.0</td>\n",
       "      <td>0.0</td>\n",
       "      <td>0.0</td>\n",
       "      <td>0.0</td>\n",
       "      <td>0.0</td>\n",
       "      <td>0.0</td>\n",
       "      <td>0.0</td>\n",
       "      <td>0.43</td>\n",
       "      <td>0.54</td>\n",
       "      <td>1.17</td>\n",
       "      <td>2.55</td>\n",
       "      <td>3.36</td>\n",
       "      <td>2.69</td>\n",
       "      <td>2.33</td>\n",
       "      <td>2.39</td>\n",
       "      <td>1.47</td>\n",
       "      <td>2.01</td>\n",
       "      <td>0.68</td>\n",
       "      <td>0.41</td>\n",
       "      <td>0.0</td>\n",
       "      <td>0.0</td>\n",
       "      <td>0.0</td>\n",
       "      <td>0.0</td>\n",
       "      <td>0.0</td>\n",
       "      <td>0.0</td>\n",
       "      <td>0.0</td>\n",
       "      <td>0.0</td>\n",
       "      <td>0.0</td>\n",
       "      <td>0.0</td>\n",
       "      <td>0.0</td>\n",
       "      <td>0.0</td>\n",
       "      <td>POINT (-102.61680 43.78100)</td>\n",
       "    </tr>\n",
       "    <tr>\n",
       "      <th>270</th>\n",
       "      <td>270</td>\n",
       "      <td>WIND CAVE</td>\n",
       "      <td>SD</td>\n",
       "      <td>USC00399347</td>\n",
       "      <td>43.5561</td>\n",
       "      <td>-103.4794</td>\n",
       "      <td>1266.4</td>\n",
       "      <td>39.7</td>\n",
       "      <td>40.7</td>\n",
       "      <td>50.0</td>\n",
       "      <td>57.7</td>\n",
       "      <td>66.4</td>\n",
       "      <td>77.4</td>\n",
       "      <td>84.7</td>\n",
       "      <td>83.6</td>\n",
       "      <td>76.2</td>\n",
       "      <td>61.4</td>\n",
       "      <td>48.4</td>\n",
       "      <td>39.4</td>\n",
       "      <td>14.8</td>\n",
       "      <td>15.5</td>\n",
       "      <td>23.7</td>\n",
       "      <td>30.9</td>\n",
       "      <td>40.9</td>\n",
       "      <td>50.1</td>\n",
       "      <td>56.6</td>\n",
       "      <td>54.9</td>\n",
       "      <td>46.2</td>\n",
       "      <td>34.0</td>\n",
       "      <td>23.4</td>\n",
       "      <td>15.4</td>\n",
       "      <td>0.45</td>\n",
       "      <td>0.70</td>\n",
       "      <td>1.07</td>\n",
       "      <td>2.32</td>\n",
       "      <td>3.74</td>\n",
       "      <td>3.29</td>\n",
       "      <td>3.01</td>\n",
       "      <td>2.30</td>\n",
       "      <td>1.53</td>\n",
       "      <td>1.55</td>\n",
       "      <td>0.71</td>\n",
       "      <td>0.53</td>\n",
       "      <td>6.3</td>\n",
       "      <td>7.1</td>\n",
       "      <td>9.6</td>\n",
       "      <td>7.8</td>\n",
       "      <td>0.9</td>\n",
       "      <td>0.0</td>\n",
       "      <td>0.0</td>\n",
       "      <td>0.0</td>\n",
       "      <td>0.2</td>\n",
       "      <td>2.1</td>\n",
       "      <td>4.4</td>\n",
       "      <td>7.5</td>\n",
       "      <td>POINT (-103.47940 43.55610)</td>\n",
       "    </tr>\n",
       "  </tbody>\n",
       "</table>\n",
       "</div>"
      ],
      "text/plain": [
       "     Unnamed: 0         Location  ... Dec_Snow                     geometry\n",
       "64           64   CUSTER 10.2 E   ...      0.0  POINT (-103.39640 43.77080)\n",
       "257         257           WASTA   ...      5.6  POINT (-102.44970 44.06810)\n",
       "258         258  WASTA 21.6 SSW   ...      0.0  POINT (-102.61680 43.78100)\n",
       "270         270       WIND CAVE   ...      7.5  POINT (-103.47940 43.55610)\n",
       "\n",
       "[4 rows x 56 columns]"
      ]
     },
     "execution_count": 29,
     "metadata": {},
     "output_type": "execute_result"
    }
   ],
   "source": [
    "new_df"
   ]
  },
  {
   "cell_type": "code",
   "execution_count": 30,
   "metadata": {
    "colab": {
     "base_uri": "https://localhost:8080/"
    },
    "id": "a9WoN4CwPZB0",
    "outputId": "b7f4a3c9-048f-4adc-db35-67c14de8afa9"
   },
   "outputs": [
    {
     "data": {
      "text/plain": [
       "Elevation    1047.75\n",
       "dtype: float64"
      ]
     },
     "execution_count": 30,
     "metadata": {},
     "output_type": "execute_result"
    }
   ],
   "source": [
    "# Average for 4 location\n",
    "new_df_elevation = new_df.drop(new_df[new_df.Elevation == 0].index)\n",
    "new_df_elevation[['Elevation']].mean()"
   ]
  },
  {
   "cell_type": "code",
   "execution_count": 31,
   "metadata": {
    "colab": {
     "base_uri": "https://localhost:8080/"
    },
    "id": "zmrP-w9zN-X_",
    "outputId": "2e90443c-9e2a-4ff4-a18b-5d267ac5134e"
   },
   "outputs": [
    {
     "data": {
      "text/plain": [
       "Elevation    672.781227\n",
       "dtype: float64"
      ]
     },
     "execution_count": 31,
     "metadata": {},
     "output_type": "execute_result"
    }
   ],
   "source": [
    "# Average for all location\n",
    "df_elevation = gdf_weather_SD.drop(gdf_weather_SD[gdf_weather_SD.Elevation == 0].index)\n",
    "df_elevation[['Elevation']].mean()"
   ]
  },
  {
   "cell_type": "code",
   "execution_count": 32,
   "metadata": {
    "colab": {
     "base_uri": "https://localhost:8080/",
     "height": 265
    },
    "id": "2TL1lASpOCs3",
    "outputId": "95fc45d1-5be7-4aba-c2fa-7c2066deaeb4"
   },
   "outputs": [
    {
     "data": {
      "image/png": "[encoded data removed]",
      "text/plain": [
       "<Figure size 432x288 with 1 Axes>"
      ]
     },
     "metadata": {
      "needs_background": "light"
     },
     "output_type": "display_data"
    }
   ],
   "source": [
    "plt.scatter(new_df.Location, new_df.Elevation)\n",
    "plt.ylim(ymin=0)\n",
    "plt.show()"
   ]
  },
  {
   "cell_type": "code",
   "execution_count": 33,
   "metadata": {
    "colab": {
     "base_uri": "https://localhost:8080/"
    },
    "id": "MfBNqM16O8oS",
    "outputId": "8021349e-3d3e-40b3-cb98-750e40d2c61c"
   },
   "outputs": [
    {
     "data": {
      "text/plain": [
       "Jan_max    37.40\n",
       "Feb_max    39.85\n",
       "Mar_max    50.10\n",
       "Apr_max    58.90\n",
       "May_max    68.05\n",
       "Jun_max    78.90\n",
       "Jul_max    86.85\n",
       "Aug_max    85.95\n",
       "Sep_max    77.65\n",
       "Oct_max    62.25\n",
       "Nov_max    48.70\n",
       "Dec_max    38.40\n",
       "dtype: float64"
      ]
     },
     "execution_count": 33,
     "metadata": {},
     "output_type": "execute_result"
    }
   ],
   "source": [
    "# Average for 4 location\n",
    "new_df_max = new_df.drop(new_df[new_df.Aug_max == 0].index)\n",
    "new_df_max[['Jan_max', 'Feb_max', 'Mar_max', 'Apr_max', 'May_max',\n",
    "       'Jun_max', 'Jul_max', 'Aug_max', 'Sep_max', 'Oct_max', 'Nov_max',\n",
    "       'Dec_max']].mean()"
   ]
  },
  {
   "cell_type": "code",
   "execution_count": 34,
   "metadata": {
    "colab": {
     "base_uri": "https://localhost:8080/"
    },
    "id": "swdZljQtOEHi",
    "outputId": "d7c06914-0bd5-4721-ab6e-67afa7aa4229"
   },
   "outputs": [
    {
     "data": {
      "text/plain": [
       "Jan_max    28.983234\n",
       "Feb_max    32.864072\n",
       "Mar_max    44.588024\n",
       "Apr_max    56.836527\n",
       "May_max    68.120958\n",
       "Jun_max    78.421557\n",
       "Jul_max    85.264072\n",
       "Aug_max    83.783832\n",
       "Sep_max    75.334731\n",
       "Oct_max    59.814970\n",
       "Nov_max    44.410778\n",
       "Dec_max    32.271856\n",
       "dtype: float64"
      ]
     },
     "execution_count": 34,
     "metadata": {},
     "output_type": "execute_result"
    }
   ],
   "source": [
    "# Average for all location\n",
    "df_max = gdf_weather_SD.drop(gdf_weather_SD[gdf_weather_SD.Aug_max == 0].index)\n",
    "df_max[['Jan_max', 'Feb_max', 'Mar_max', 'Apr_max', 'May_max',\n",
    "       'Jun_max', 'Jul_max', 'Aug_max', 'Sep_max', 'Oct_max', 'Nov_max',\n",
    "       'Dec_max']].mean()"
   ]
  },
  {
   "cell_type": "code",
   "execution_count": 35,
   "metadata": {
    "colab": {
     "base_uri": "https://localhost:8080/",
     "height": 375
    },
    "id": "OrcyhLjqOK01",
    "outputId": "359b6299-879c-4b26-c96e-087b18577250"
   },
   "outputs": [
    {
     "data": {
      "text/plain": [
       "<Figure size 1080x1080 with 0 Axes>"
      ]
     },
     "metadata": {},
     "output_type": "display_data"
    },
    {
     "data": {
      "image/png": "[encoded data removed]",
      "text/plain": [
       "<Figure size 432x288 with 1 Axes>"
      ]
     },
     "metadata": {
      "needs_background": "light"
     },
     "output_type": "display_data"
    }
   ],
   "source": [
    "plt.figure(figsize=(15, 15))\n",
    "new_df.plot(x=\"Location\", y=['Jan_max', 'Feb_max', 'Mar_max', 'Apr_max', 'May_max',\n",
    "       'Jun_max', 'Jul_max', 'Aug_max', 'Sep_max', 'Oct_max', 'Nov_max',\n",
    "       'Dec_max'], kind=\"bar\")\n",
    "plt.show()"
   ]
  },
  {
   "cell_type": "code",
   "execution_count": 36,
   "metadata": {
    "colab": {
     "base_uri": "https://localhost:8080/"
    },
    "id": "SL16rAmFP6k9",
    "outputId": "28f5d790-0829-42da-b1d6-6e01cad15105"
   },
   "outputs": [
    {
     "data": {
      "text/plain": [
       "Jan_min    12.10\n",
       "Feb_min    14.05\n",
       "Mar_min    22.95\n",
       "Apr_min    31.75\n",
       "May_min    42.20\n",
       "Jun_min    52.00\n",
       "Jul_min    58.35\n",
       "Aug_min    56.45\n",
       "Sep_min    46.75\n",
       "Oct_min    33.80\n",
       "Nov_min    22.20\n",
       "Dec_min    13.55\n",
       "dtype: float64"
      ]
     },
     "execution_count": 36,
     "metadata": {},
     "output_type": "execute_result"
    }
   ],
   "source": [
    "# Average for 4 location\n",
    "new_df_min = new_df.drop(new_df[new_df.Aug_min == 0].index)\n",
    "new_df_min[['Jan_min', 'Feb_min', 'Mar_min', 'Apr_min', 'May_min',\n",
    "       'Jun_min', 'Jul_min', 'Aug_min', 'Sep_min', 'Oct_min', 'Nov_min',\n",
    "       'Dec_min']].mean()"
   ]
  },
  {
   "cell_type": "code",
   "execution_count": 37,
   "metadata": {
    "colab": {
     "base_uri": "https://localhost:8080/"
    },
    "id": "SwmClw5EOQvE",
    "outputId": "2733be88-f74f-4d02-8980-dd1abc4f7451"
   },
   "outputs": [
    {
     "data": {
      "text/plain": [
       "Jan_min     7.802994\n",
       "Feb_min    10.848503\n",
       "Mar_min    21.276048\n",
       "Apr_min    31.773054\n",
       "May_min    43.586228\n",
       "Jun_min    54.122754\n",
       "Jul_min    59.579641\n",
       "Aug_min    57.257485\n",
       "Sep_min    47.750299\n",
       "Oct_min    34.471257\n",
       "Nov_min    21.813174\n",
       "Dec_min    11.800599\n",
       "dtype: float64"
      ]
     },
     "execution_count": 37,
     "metadata": {},
     "output_type": "execute_result"
    }
   ],
   "source": [
    "# Average for all location\n",
    "df_min = gdf_weather_SD.drop(gdf_weather_SD[gdf_weather_SD.Aug_min == 0].index)\n",
    "df_min[['Jan_min', 'Feb_min', 'Mar_min', 'Apr_min', 'May_min',\n",
    "       'Jun_min', 'Jul_min', 'Aug_min', 'Sep_min', 'Oct_min', 'Nov_min',\n",
    "       'Dec_min']].mean()"
   ]
  },
  {
   "cell_type": "code",
   "execution_count": 38,
   "metadata": {
    "colab": {
     "base_uri": "https://localhost:8080/",
     "height": 375
    },
    "id": "yPUt8fLrOTX9",
    "outputId": "68a8626a-2021-472e-9a4b-be7b912f3cbb"
   },
   "outputs": [
    {
     "data": {
      "text/plain": [
       "<Figure size 1080x1080 with 0 Axes>"
      ]
     },
     "metadata": {},
     "output_type": "display_data"
    },
    {
     "data": {
      "image/png": "[encoded data removed]",
      "text/plain": [
       "<Figure size 432x288 with 1 Axes>"
      ]
     },
     "metadata": {
      "needs_background": "light"
     },
     "output_type": "display_data"
    }
   ],
   "source": [
    "plt.figure(figsize=(15, 15))\n",
    "new_df.plot(x=\"Location\", y=['Jan_min', 'Feb_min', 'Mar_min', 'Apr_min', 'May_min',\n",
    "       'Jun_min', 'Jul_min', 'Aug_min', 'Sep_min', 'Oct_min', 'Nov_min',\n",
    "       'Dec_min'], kind=\"bar\")\n",
    "plt.show()"
   ]
  },
  {
   "cell_type": "code",
   "execution_count": 39,
   "metadata": {
    "colab": {
     "base_uri": "https://localhost:8080/"
    },
    "id": "TQsiiLuVQB2p",
    "outputId": "33a2f851-b4fb-4c02-bc6f-2b5967c7f314"
   },
   "outputs": [
    {
     "data": {
      "text/plain": [
       "Jan_Prec    0.3925\n",
       "Feb_Prec    0.5900\n",
       "Mar_Prec    1.0400\n",
       "Apr_Prec    2.2925\n",
       "May_Prec    3.7200\n",
       "Jun_Prec    3.0650\n",
       "Jul_Prec    2.7625\n",
       "Aug_Prec    2.1300\n",
       "Sep_Prec    1.4875\n",
       "Oct_Prec    1.7075\n",
       "Nov_Prec    0.6400\n",
       "Dec_Prec    0.4200\n",
       "dtype: float64"
      ]
     },
     "execution_count": 39,
     "metadata": {},
     "output_type": "execute_result"
    }
   ],
   "source": [
    "# Average for 4 location\n",
    "new_df_prec = new_df.drop(new_df[new_df.May_Prec == 0].index)\n",
    "new_df_prec[['Jan_Prec', 'Feb_Prec', 'Mar_Prec', 'Apr_Prec', 'May_Prec',\n",
    "       'Jun_Prec', 'Jul_Prec', 'Aug_Prec', 'Sep_Prec', 'Oct_Prec', 'Nov_Prec',\n",
    "       'Dec_Prec']].mean()"
   ]
  },
  {
   "cell_type": "code",
   "execution_count": 40,
   "metadata": {
    "colab": {
     "base_uri": "https://localhost:8080/"
    },
    "id": "mZm-h5QiOWEZ",
    "outputId": "e07523c1-e79a-4b1e-ef70-2ee21389f013"
   },
   "outputs": [
    {
     "data": {
      "text/plain": [
       "Jan_Prec    0.505856\n",
       "Feb_Prec    0.662510\n",
       "Mar_Prec    1.080684\n",
       "Apr_Prec    2.283650\n",
       "May_Prec    3.416730\n",
       "Jun_Prec    3.681787\n",
       "Jul_Prec    2.980646\n",
       "Aug_Prec    2.493498\n",
       "Sep_Prec    2.075703\n",
       "Oct_Prec    1.885627\n",
       "Nov_Prec    0.748745\n",
       "Dec_Prec    0.614715\n",
       "dtype: float64"
      ]
     },
     "execution_count": 40,
     "metadata": {},
     "output_type": "execute_result"
    }
   ],
   "source": [
    "# Average for all location\n",
    "df_prec = gdf_weather_SD.drop(gdf_weather_SD[gdf_weather_SD.May_Prec == 0].index)\n",
    "df_prec[['Jan_Prec', 'Feb_Prec', 'Mar_Prec', 'Apr_Prec', 'May_Prec',\n",
    "       'Jun_Prec', 'Jul_Prec', 'Aug_Prec', 'Sep_Prec', 'Oct_Prec', 'Nov_Prec',\n",
    "       'Dec_Prec']].mean()"
   ]
  },
  {
   "cell_type": "code",
   "execution_count": 41,
   "metadata": {
    "colab": {
     "base_uri": "https://localhost:8080/",
     "height": 375
    },
    "id": "O4iZ_hsBOYGM",
    "outputId": "9c9b2b2b-18b4-4329-baae-d72f99972c20"
   },
   "outputs": [
    {
     "data": {
      "text/plain": [
       "<Figure size 1080x1080 with 0 Axes>"
      ]
     },
     "metadata": {},
     "output_type": "display_data"
    },
    {
     "data": {
      "image/png": "[encoded data removed]",
      "text/plain": [
       "<Figure size 432x288 with 1 Axes>"
      ]
     },
     "metadata": {
      "needs_background": "light"
     },
     "output_type": "display_data"
    }
   ],
   "source": [
    "plt.figure(figsize=(15, 15))\n",
    "new_df.plot(x=\"Location\", y=['Jan_Prec', 'Feb_Prec', 'Mar_Prec', 'Apr_Prec', 'May_Prec',\n",
    "       'Jun_Prec', 'Jul_Prec', 'Aug_Prec', 'Sep_Prec', 'Oct_Prec', 'Nov_Prec',\n",
    "       'Dec_Prec'], kind=\"bar\")\n",
    "plt.show()"
   ]
  },
  {
   "cell_type": "code",
   "execution_count": 42,
   "metadata": {
    "colab": {
     "base_uri": "https://localhost:8080/"
    },
    "id": "oucNYuycQfNl",
    "outputId": "0e101dbb-8b2c-4fea-ccfd-16ee8e960aa9"
   },
   "outputs": [
    {
     "data": {
      "text/plain": [
       "Jan_Snow    5.05\n",
       "Feb_Snow    6.75\n",
       "Mar_Snow    7.55\n",
       "Apr_Snow    5.75\n",
       "May_Snow    0.50\n",
       "Jun_Snow    0.00\n",
       "Jul_Snow    0.00\n",
       "Aug_Snow    0.00\n",
       "Sep_Snow    0.10\n",
       "Oct_Snow    1.60\n",
       "Nov_Snow    4.30\n",
       "Dec_Snow    6.55\n",
       "dtype: float64"
      ]
     },
     "execution_count": 42,
     "metadata": {},
     "output_type": "execute_result"
    }
   ],
   "source": [
    "# Average for 4 location\n",
    "new_df_snow = new_df.drop(new_df[new_df.Jan_Snow == 0].index)\n",
    "new_df_snow = new_df_snow.drop(new_df_snow[new_df_snow.Jan_Snow == 0].index)\n",
    "new_df_snow[['Jan_Snow', 'Feb_Snow', 'Mar_Snow', 'Apr_Snow', 'May_Snow',\n",
    "       'Jun_Snow', 'Jul_Snow', 'Aug_Snow', 'Sep_Snow', 'Oct_Snow', 'Nov_Snow',\n",
    "       'Dec_Snow']].mean()"
   ]
  },
  {
   "cell_type": "code",
   "execution_count": 43,
   "metadata": {
    "colab": {
     "base_uri": "https://localhost:8080/"
    },
    "id": "owtAz6G7OaB-",
    "outputId": "51e0244b-537c-4d1c-a6b4-865c92bee400"
   },
   "outputs": [
    {
     "data": {
      "text/plain": [
       "Jan_Snow    6.506522\n",
       "Feb_Snow    7.960145\n",
       "Mar_Snow    6.852174\n",
       "Apr_Snow    6.013768\n",
       "May_Snow    0.546377\n",
       "Jun_Snow    0.012319\n",
       "Jul_Snow    0.000000\n",
       "Aug_Snow    0.000000\n",
       "Sep_Snow    0.059420\n",
       "Oct_Snow    2.054348\n",
       "Nov_Snow    5.081159\n",
       "Dec_Snow    7.958696\n",
       "dtype: float64"
      ]
     },
     "execution_count": 43,
     "metadata": {},
     "output_type": "execute_result"
    }
   ],
   "source": [
    "# Average for all location\n",
    "df_snow = gdf_weather_SD.drop(gdf_weather_SD[gdf_weather_SD.Jan_Snow == 0].index)\n",
    "df_snow = df_snow.drop(df_snow[df_snow.Dec_Snow == 0].index)\n",
    "df_snow[['Jan_Snow', 'Feb_Snow', 'Mar_Snow', 'Apr_Snow', 'May_Snow',\n",
    "       'Jun_Snow', 'Jul_Snow', 'Aug_Snow', 'Sep_Snow', 'Oct_Snow', 'Nov_Snow',\n",
    "       'Dec_Snow']].mean()"
   ]
  },
  {
   "cell_type": "code",
   "execution_count": 44,
   "metadata": {
    "colab": {
     "base_uri": "https://localhost:8080/",
     "height": 377
    },
    "id": "ya76FNYLOsKZ",
    "outputId": "bd04de0e-2e8d-40cd-fe0b-7b55c74396ec"
   },
   "outputs": [
    {
     "data": {
      "text/plain": [
       "<Figure size 1080x1080 with 0 Axes>"
      ]
     },
     "metadata": {},
     "output_type": "display_data"
    },
    {
     "data": {
      "image/png": "[encoded data removed]",
      "text/plain": [
       "<Figure size 432x288 with 1 Axes>"
      ]
     },
     "metadata": {
      "needs_background": "light"
     },
     "output_type": "display_data"
    }
   ],
   "source": [
    "plt.figure(figsize=(15, 15))\n",
    "new_df.plot(x=\"Location\", y=['Jan_Snow', 'Feb_Snow', 'Mar_Snow', 'Apr_Snow', 'May_Snow',\n",
    "       'Jun_Snow', 'Jul_Snow', 'Aug_Snow', 'Sep_Snow', 'Oct_Snow', 'Nov_Snow',\n",
    "       'Dec_Snow'], kind=\"bar\")\n",
    "plt.show()"
   ]
  },
  {
   "cell_type": "code",
   "execution_count": 44,
   "metadata": {
    "id": "jCxfqx3iOwlg"
   },
   "outputs": [],
   "source": []
  }
 ],
 "metadata": {
  "colab": {
   "name": "SC21_phase2.ipynb",
   "provenance": []
  },
  "kernelspec": {
   "display_name": "Python 3 (ipykernel)",
   "language": "python",
   "name": "python3"
  },
  "language_info": {
   "codemirror_mode": {
    "name": "ipython",
    "version": 3
   },
   "file_extension": ".py",
   "mimetype": "text/x-python",
   "name": "python",
   "nbconvert_exporter": "python",
   "pygments_lexer": "ipython3",
   "version": "3.9.18"
  }
 },
 "nbformat": 4,
 "nbformat_minor": 4
}
